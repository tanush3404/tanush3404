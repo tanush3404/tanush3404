{
  "nbformat": 4,
  "nbformat_minor": 0,
  "metadata": {
    "colab": {
      "provenance": [],
      "authorship_tag": "ABX9TyOV0SAj+ZCcFK/T4V3A2JTW",
      "include_colab_link": true
    },
    "kernelspec": {
      "name": "python3",
      "display_name": "Python 3"
    },
    "language_info": {
      "name": "python"
    }
  },
  "cells": [
    {
      "cell_type": "markdown",
      "metadata": {
        "id": "view-in-github",
        "colab_type": "text"
      },
      "source": [
        "<a href=\"https://colab.research.google.com/github/tanush3404/tanush3404/blob/main/randomnumb.ipynb\" target=\"_parent\"><img src=\"https://colab.research.google.com/assets/colab-badge.svg\" alt=\"Open In Colab\"/></a>"
      ]
    },
    {
      "cell_type": "code",
      "execution_count": 23,
      "metadata": {
        "id": "ZqBrriMp0TF3",
        "colab": {
          "base_uri": "https://localhost:8080/"
        },
        "outputId": "a00a9d58-a795-49f8-ddb5-2c3c65aea145"
      },
      "outputs": [
        {
          "name": "stdout",
          "output_type": "stream",
          "text": [
            "Hello,What is your name?T\n",
            "Okay!) T I am guessing a number between 0 to 9:\n",
            "Enter the no.6\n",
            "Your guess is too low\n",
            "Enter the no.2\n",
            "Your guess is too low\n",
            "Enter the no.7\n"
          ]
        }
      ],
      "source": [
        "import random\n",
        "number = (random.randint(0,9))\n",
        "player_name = input(\"Hello,What is your name?\")\n",
        "print('Okay!) ' + player_name+ ' I am guessing a number between 0 to 9:')\n",
        "count=0\n",
        "while count < 3:\n",
        "  guess= int (input(\"Enter the no.\"))\n",
        "  count = count+1\n",
        "  if guess < number:\n",
        "    print(\"Your guess is too low\")\n",
        "  if guess > number:\n",
        "    print(\"Your guess is too high\")\n",
        "  if guess == number:\n",
        "    break\n"
      ]
    },
    {
      "cell_type": "code",
      "source": [],
      "metadata": {
        "id": "uRFKOJlG64xz"
      },
      "execution_count": null,
      "outputs": []
    },
    {
      "cell_type": "code",
      "source": [
        "number = (random.randint(0,9))"
      ],
      "metadata": {
        "id": "WZHG0cQ56xWB"
      },
      "execution_count": 16,
      "outputs": []
    },
    {
      "cell_type": "code",
      "source": [],
      "metadata": {
        "id": "3xF8R6gN6nNG"
      },
      "execution_count": null,
      "outputs": []
    },
    {
      "cell_type": "code",
      "source": [
        "number = (random.randint(0,9))"
      ],
      "metadata": {
        "id": "eW6-O1-s20qw"
      },
      "execution_count": 6,
      "outputs": []
    },
    {
      "cell_type": "code",
      "source": [
        "player_name = input(\"Hello,What is your name?\")"
      ],
      "metadata": {
        "colab": {
          "base_uri": "https://localhost:8080/"
        },
        "id": "cZoxNQQ925Jc",
        "outputId": "f32fd2bb-618a-4822-df92-561831c9bad6"
      },
      "execution_count": 7,
      "outputs": [
        {
          "name": "stdout",
          "output_type": "stream",
          "text": [
            "Hello,What is your name?Test\n"
          ]
        }
      ]
    },
    {
      "cell_type": "code",
      "source": [
        "print('Okay! ' + player_name+ ' I am guessing a number between 0 to 9:')"
      ],
      "metadata": {
        "colab": {
          "base_uri": "https://localhost:8080/"
        },
        "id": "1WDSyzXE4o9h",
        "outputId": "cfba56c1-ddda-40cd-d6b0-5066f9f0dc82"
      },
      "execution_count": 8,
      "outputs": [
        {
          "output_type": "stream",
          "name": "stdout",
          "text": [
            "Okay! Test I am guessing a number between 0 to 9:\n"
          ]
        }
      ]
    },
    {
      "cell_type": "code",
      "source": [
        "while number_of_guesses < 3:\n",
        "  guess = int(input())\n",
        "  number_of_guesses += 1\n",
        "  if guess < number:\n",
        "    print('Your guess is too low')\n",
        "  if guess > number:\n",
        "    print('Your guess is too high')\n",
        "  if guess == number:\n",
        "    break"
      ],
      "metadata": {
        "colab": {
          "base_uri": "https://localhost:8080/",
          "height": 236
        },
        "id": "X4IrpwCk5DnB",
        "outputId": "296df723-4def-48a4-f7f1-d41d14c30346"
      },
      "execution_count": 15,
      "outputs": [
        {
          "output_type": "error",
          "ename": "NameError",
          "evalue": "ignored",
          "traceback": [
            "\u001b[0;31m---------------------------------------------------------------------------\u001b[0m",
            "\u001b[0;31mNameError\u001b[0m                                 Traceback (most recent call last)",
            "\u001b[0;32m<ipython-input-15-23b40b9f83ea>\u001b[0m in \u001b[0;36m<module>\u001b[0;34m\u001b[0m\n\u001b[0;32m----> 1\u001b[0;31m \u001b[0;32mwhile\u001b[0m \u001b[0mnumber_of_guesses\u001b[0m \u001b[0;34m<\u001b[0m \u001b[0;36m3\u001b[0m\u001b[0;34m:\u001b[0m\u001b[0;34m\u001b[0m\u001b[0;34m\u001b[0m\u001b[0m\n\u001b[0m\u001b[1;32m      2\u001b[0m   \u001b[0mguess\u001b[0m \u001b[0;34m=\u001b[0m \u001b[0mint\u001b[0m\u001b[0;34m(\u001b[0m\u001b[0minput\u001b[0m\u001b[0;34m(\u001b[0m\u001b[0;34m)\u001b[0m\u001b[0;34m)\u001b[0m\u001b[0;34m\u001b[0m\u001b[0;34m\u001b[0m\u001b[0m\n\u001b[1;32m      3\u001b[0m   \u001b[0mnumber_of_guesses\u001b[0m \u001b[0;34m+=\u001b[0m \u001b[0;36m1\u001b[0m\u001b[0;34m\u001b[0m\u001b[0;34m\u001b[0m\u001b[0m\n\u001b[1;32m      4\u001b[0m   \u001b[0;32mif\u001b[0m \u001b[0mguess\u001b[0m \u001b[0;34m<\u001b[0m \u001b[0mnumber\u001b[0m\u001b[0;34m:\u001b[0m\u001b[0;34m\u001b[0m\u001b[0;34m\u001b[0m\u001b[0m\n\u001b[1;32m      5\u001b[0m     \u001b[0mprint\u001b[0m\u001b[0;34m(\u001b[0m\u001b[0;34m'Your guess is too low'\u001b[0m\u001b[0;34m)\u001b[0m\u001b[0;34m\u001b[0m\u001b[0;34m\u001b[0m\u001b[0m\n",
            "\u001b[0;31mNameError\u001b[0m: name 'number_of_guesses' is not defined"
          ]
        }
      ]
    },
    {
      "cell_type": "code",
      "source": [],
      "metadata": {
        "id": "ScFzhA0a5S0a"
      },
      "execution_count": null,
      "outputs": []
    }
  ]
}